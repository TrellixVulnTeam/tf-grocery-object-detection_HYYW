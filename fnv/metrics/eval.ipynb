{
 "cells": [
  {
   "cell_type": "code",
   "execution_count": null,
   "id": "50bb2350-1cb3-4d3d-8104-fbeed5eee731",
   "metadata": {},
   "outputs": [],
   "source": [
    "def load_image_into_numpy_array(path):\n",
    "    return np.array(Image.open(path))"
   ]
  },
  {
   "cell_type": "code",
   "execution_count": 1,
   "id": "3eca05a5-d8e8-4246-b247-84faa35489c5",
   "metadata": {},
   "outputs": [],
   "source": [
    "import _init_paths\n",
    "from utils import *\n",
    "from BoundingBox import BoundingBox\n",
    "from BoundingBoxes import BoundingBoxes"
   ]
  },
  {
   "cell_type": "code",
   "execution_count": 2,
   "id": "f1640239-5656-4669-9079-8476d79c6a15",
   "metadata": {},
   "outputs": [],
   "source": [
    "gt_boundingBox_1 = BoundingBox(imageName='000001', classId='dog', x=0.34419263456090654, y=0.611, \n",
    "                               w=0.4164305949008499, h=0.262, typeCoordinates=CoordinatesType.Relative,\n",
    "                               bbType=BBType.GroundTruth, format=BBFormat.XYWH, imgSize=(353,500))"
   ]
  },
  {
   "cell_type": "code",
   "execution_count": 6,
   "id": "48f4dc50-1b43-4751-8f91-2de044bfe4e9",
   "metadata": {},
   "outputs": [
    {
     "name": "stdout",
     "output_type": "stream",
     "text": [
      "<BoundingBox.BoundingBox object at 0x123fe8dc0>\n"
     ]
    }
   ],
   "source": [
    "print(gt_boundingBox_1)"
   ]
  },
  {
   "cell_type": "code",
   "execution_count": 7,
   "id": "d262c131-380e-44a0-b57c-238735c53e5e",
   "metadata": {},
   "outputs": [],
   "source": [
    "myBoundingBoxes = BoundingBoxes()"
   ]
  },
  {
   "cell_type": "code",
   "execution_count": 8,
   "id": "8830fb65-7a28-4488-b6e2-6356b416332e",
   "metadata": {},
   "outputs": [],
   "source": [
    "def getBoundingBoxes(directory,\n",
    "                     isGT,\n",
    "                     bbFormat,\n",
    "                     coordType,\n",
    "                     allBoundingBoxes=None,\n",
    "                     allClasses=None,\n",
    "                     imgSize=(0, 0)):\n",
    "    \"\"\"Read txt files containing bounding boxes (ground truth and detections).\"\"\"\n",
    "    if allBoundingBoxes is None:\n",
    "        allBoundingBoxes = BoundingBoxes()\n",
    "    if allClasses is None:\n",
    "        allClasses = []\n",
    "    # Read ground truths\n",
    "    os.chdir(directory)\n",
    "    files = glob.glob(\"*.txt\")\n",
    "    files.sort()\n",
    "    # Read GT detections from txt file\n",
    "    # Each line of the files in the groundtruths folder represents a ground truth bounding box\n",
    "    # (bounding boxes that a detector should detect)\n",
    "    # Each value of each line is  \"class_id, x, y, width, height\" respectively\n",
    "    # Class_id represents the class of the bounding box\n",
    "    # x, y represents the most top-left coordinates of the bounding box\n",
    "    # x2, y2 represents the most bottom-right coordinates of the bounding box\n",
    "    for f in files:\n",
    "        nameOfImage = f.replace(\".txt\", \"\")\n",
    "        fh1 = open(f, \"r\")\n",
    "        for line in fh1:\n",
    "            line = line.replace(\"\\n\", \"\")\n",
    "            if line.replace(' ', '') == '':\n",
    "                continue\n",
    "            splitLine = line.split(\" \")\n",
    "            if isGT:\n",
    "                # idClass = int(splitLine[0]) #class\n",
    "                idClass = (splitLine[0])  # class\n",
    "                x = float(splitLine[1])\n",
    "                y = float(splitLine[2])\n",
    "                w = float(splitLine[3])\n",
    "                h = float(splitLine[4])\n",
    "                bb = BoundingBox(nameOfImage,\n",
    "                                 idClass,\n",
    "                                 x,\n",
    "                                 y,\n",
    "                                 w,\n",
    "                                 h,\n",
    "                                 coordType,\n",
    "                                 imgSize,\n",
    "                                 BBType.GroundTruth,\n",
    "                                 format=bbFormat)\n",
    "            else:\n",
    "                # idClass = int(splitLine[0]) #class\n",
    "                idClass = (splitLine[0])  # class\n",
    "                confidence = float(splitLine[1])\n",
    "                x = float(splitLine[2])\n",
    "                y = float(splitLine[3])\n",
    "                w = float(splitLine[4])\n",
    "                h = float(splitLine[5])\n",
    "                bb = BoundingBox(nameOfImage,\n",
    "                                 idClass,\n",
    "                                 x,\n",
    "                                 y,\n",
    "                                 w,\n",
    "                                 h,\n",
    "                                 coordType,\n",
    "                                 imgSize,\n",
    "                                 BBType.Detected,\n",
    "                                 confidence,\n",
    "                                 format=bbFormat)\n",
    "            allBoundingBoxes.addBoundingBox(bb)\n",
    "            if idClass not in allClasses:\n",
    "                allClasses.append(idClass)\n",
    "        fh1.close()\n",
    "    return allBoundingBoxes, allClasses"
   ]
  }
 ],
 "metadata": {
  "kernelspec": {
   "display_name": "Python 3 (ipykernel)",
   "language": "python",
   "name": "python3"
  },
  "language_info": {
   "codemirror_mode": {
    "name": "ipython",
    "version": 3
   },
   "file_extension": ".py",
   "mimetype": "text/x-python",
   "name": "python",
   "nbconvert_exporter": "python",
   "pygments_lexer": "ipython3",
   "version": "3.9.9"
  }
 },
 "nbformat": 4,
 "nbformat_minor": 5
}
