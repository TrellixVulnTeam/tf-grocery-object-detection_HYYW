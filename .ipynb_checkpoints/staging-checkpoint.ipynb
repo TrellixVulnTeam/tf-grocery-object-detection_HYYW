{
 "cells": [
  {
   "cell_type": "code",
   "execution_count": 1,
   "id": "971998bb-bfd6-4dcb-a15d-ea8e5fc3628e",
   "metadata": {},
   "outputs": [],
   "source": [
    "from pathlib import Path\n",
    "import random\n",
    "import cv2\n",
    "import xml.etree.ElementTree as ET\n",
    "import shutil\n",
    "import tqdm"
   ]
  },
  {
   "cell_type": "code",
   "execution_count": 2,
   "id": "1b31dc89-2e75-4568-b533-ad93732db93b",
   "metadata": {},
   "outputs": [],
   "source": [
    "shutil.rmtree('training_demo/images/train')\n",
    "shutil.rmtree('training_demo/images/test')\n",
    "\n",
    "Path('training_demo/images/train/').mkdir(exist_ok= True, parents = True)\n",
    "Path('training_demo/images/test').mkdir(exist_ok= True, parents = True)"
   ]
  },
  {
   "cell_type": "code",
   "execution_count": 3,
   "id": "1cf4a876-16f7-43b4-841e-1b10bb2984ff",
   "metadata": {},
   "outputs": [],
   "source": [
    "import pdb"
   ]
  },
  {
   "cell_type": "code",
   "execution_count": 4,
   "id": "611139f3-14db-495f-8fec-7b893dd8d678",
   "metadata": {},
   "outputs": [],
   "source": [
    "for cls in ['banana_red', 'apple_kashmir']:\n",
    "    cls_dataset = []\n",
    "    for xml_path in Path(f'object_detection_dataset/{cls}').glob('*.xml'):\n",
    "        name = xml_path.stem\n",
    "        img_path = xml_path.parent / (name+'.jpg')\n",
    "        img = cv2.imread(str(img_path))\n",
    "        if img.shape == (2208, 4608, 3):\n",
    "            cls_dataset.append((img_path, xml_path))\n",
    "            \n",
    "    random.seed(0)\n",
    "    random.shuffle(cls_dataset)\n",
    "    train_split = cls_dataset[:int(len(cls_dataset)*.9)]\n",
    "    test_split = cls_dataset[int(len(cls_dataset)*.9):]\n",
    "    \n",
    "    for img_path, xml_path in train_split:\n",
    "        shutil.copy(img_path, 'training_demo/images/train/')\n",
    "        shutil.copy(xml_path, 'training_demo/images/train/')\n",
    "    \n",
    "    for img_path, xml_path in test_split:\n",
    "        shutil.copy(img_path, 'training_demo/images/test/')\n",
    "        shutil.copy(xml_path, 'training_demo/images/test/')"
   ]
  },
  {
   "cell_type": "code",
   "execution_count": 5,
   "id": "74b50da9-59e3-4162-adc6-e5f5b9680919",
   "metadata": {},
   "outputs": [],
   "source": [
    "new_width = 640\n",
    "new_height = 320\n",
    "\n",
    "def resize_xml(tree):\n",
    "    root = tree.getroot()\n",
    "    width = int(root.find('size').find('width').text)\n",
    "    height = int(root.find('size').find('height').text)\n",
    "    \n",
    "    root.find('size').find('width').text = str(new_width)\n",
    "    root.find('size').find('height').text = str(new_height)\n",
    "    \n",
    "    for obj in root.iter('object'):\n",
    "        name = obj.find('name').text\n",
    "        box = obj.find('bndbox')\n",
    "        x_min = int(box.find('xmin').text); y_min = int(box.find('ymin').text)\n",
    "        x_max = int(box.find('xmax').text); y_max = int(box.find('ymax').text)\n",
    "        box.find('xmin').text = str(int(float(x_min) / width * new_width))\n",
    "        box.find('xmax').text = str(int(float(x_max) / width * new_width))\n",
    "        box.find('ymin').text = str(int(float(y_min) / height * new_height))\n",
    "        box.find('ymax').text = str(int(float(y_max) / height * new_height))\n",
    "\n",
    "def resize_img(img, new_width, new_height):\n",
    "    resized_img = cv2.resize(img, (new_width, new_height))\n",
    "    return resized_img"
   ]
  },
  {
   "cell_type": "markdown",
   "id": "b953be71-08ce-47a2-957d-2b1a6f378f62",
   "metadata": {},
   "source": [
    "# train"
   ]
  },
  {
   "cell_type": "code",
   "execution_count": 13,
   "id": "72353574-ede7-4949-8c7f-afed9784e268",
   "metadata": {},
   "outputs": [
    {
     "name": "stderr",
     "output_type": "stream",
     "text": [
      "100%|███████████████████████████████████████████████████████████████████████| 122/122 [00:14<00:00,  8.62it/s]\n"
     ]
    }
   ],
   "source": [
    "xml_files = list(Path('training_demo/images/train').glob('*.xml'))\n",
    "for file in tqdm.tqdm(xml_files):\n",
    "    # resize xml\n",
    "    tree = ET.parse(str(file))\n",
    "    root = tree.getroot()\n",
    "    filename = root.find('filename').text  \n",
    "    if root.find('folder').text == 'Apple Kashmir':\n",
    "        root.find('folder').text = 'apple_kashmir'\n",
    "    root.find('path').text = str((file.parent / (str(file.stem)+'.jpg')).resolve())\n",
    "    resize_xml(tree)\n",
    "    tree.write(str(file))\n",
    "    \n",
    "    # resize img\n",
    "    img_path = file.parent / (file.stem+'.jpg')\n",
    "    img = cv2.imread(str(img_path))\n",
    "    resized_img = resize_img(img, new_width, new_height)\n",
    "    cv2.imwrite(str(img_path), resized_img)"
   ]
  },
  {
   "cell_type": "markdown",
   "id": "c2bbfeef-1ce0-41d6-b441-9affcb941c41",
   "metadata": {},
   "source": [
    "# test"
   ]
  },
  {
   "cell_type": "code",
   "execution_count": 14,
   "id": "01932e83-689c-4c68-8995-91a26b0f4ca5",
   "metadata": {},
   "outputs": [
    {
     "name": "stderr",
     "output_type": "stream",
     "text": [
      "100%|█████████████████████████████████████████████████████████████████████████| 15/15 [00:01<00:00,  7.93it/s]\n"
     ]
    }
   ],
   "source": [
    "xml_files = list(Path('training_demo/images/test').glob('*.xml'))\n",
    "for file in tqdm.tqdm(xml_files):\n",
    "    # resize xml\n",
    "    tree = ET.parse(str(file))\n",
    "    root = tree.getroot()\n",
    "    filename = root.find('filename').text    \n",
    "    if root.find('folder').text == 'Apple Kashmir':\n",
    "        root.find('folder').text = 'apple_kashmir'\n",
    "    root.find('path').text = str((file.parent / (str(file.stem)+'.jpg')).resolve())\n",
    "    resize_xml(tree)\n",
    "    tree.write(str(file))\n",
    "    \n",
    "    # resize img\n",
    "    img_path = file.parent / (file.stem+'.jpg')\n",
    "    img = cv2.imread(str(img_path))\n",
    "    resized_img = resize_img(img, new_width, new_height)\n",
    "    cv2.imwrite(str(img_path), resized_img)"
   ]
  },
  {
   "cell_type": "code",
   "execution_count": null,
   "id": "36ac1c3b-f61a-44aa-af1f-f7e049e866c3",
   "metadata": {},
   "outputs": [],
   "source": []
  }
 ],
 "metadata": {
  "kernelspec": {
   "display_name": "Python 3 (ipykernel)",
   "language": "python",
   "name": "python3"
  },
  "language_info": {
   "codemirror_mode": {
    "name": "ipython",
    "version": 3
   },
   "file_extension": ".py",
   "mimetype": "text/x-python",
   "name": "python",
   "nbconvert_exporter": "python",
   "pygments_lexer": "ipython3",
   "version": "3.9.9"
  }
 },
 "nbformat": 4,
 "nbformat_minor": 5
}
