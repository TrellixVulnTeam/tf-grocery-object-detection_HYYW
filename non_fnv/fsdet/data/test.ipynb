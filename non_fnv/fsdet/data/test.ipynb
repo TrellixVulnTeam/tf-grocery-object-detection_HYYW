{
 "cells": [
  {
   "cell_type": "code",
   "execution_count": 2,
   "metadata": {},
   "outputs": [],
   "source": [
    "thing_classes = [\"3roses_top_star\", \"dettol_250ml\", \"hamam_100g\", \"nescafe_classic\"]"
   ]
  },
  {
   "cell_type": "code",
   "execution_count": 3,
   "metadata": {},
   "outputs": [],
   "source": [
    "dirpath = '/Users/hariharan/Downloads/grocery-db'"
   ]
  },
  {
   "cell_type": "code",
   "execution_count": 4,
   "metadata": {},
   "outputs": [],
   "source": [
    "from pathlib import Path"
   ]
  },
  {
   "cell_type": "code",
   "execution_count": 5,
   "metadata": {},
   "outputs": [],
   "source": [
    "import xml.etree.ElementTree as ET\n",
    "anno_file = '/Users/hariharan/Downloads/grocery-db/hamam_100g/IMG_20220214_162021.xml'\n",
    "tree = ET.parse(anno_file)"
   ]
  },
  {
   "cell_type": "code",
   "execution_count": 8,
   "metadata": {},
   "outputs": [
    {
     "data": {
      "text/plain": [
       "[<Element 'object' at 0x10770fe50>]"
      ]
     },
     "execution_count": 8,
     "metadata": {},
     "output_type": "execute_result"
    }
   ],
   "source": [
    "size = tree.find('size')\n",
    "width = float(size.find('width').text)\n",
    "height = float(size.find('height').text)\n",
    "\n",
    "for object in tree.findall('object'):\n",
    "    class_name = object.find('name').text\n",
    "    xmin = float(object.find('xmin').text)\n",
    "    xmax = float(object.find('xmax').text)\n",
    "    ymin = float(object.find('ymin').text)\n",
    "    ymax = float(object.find('ymax').text)\n",
    "    print(name, )"
   ]
  },
  {
   "cell_type": "code",
   "execution_count": 16,
   "metadata": {},
   "outputs": [],
   "source": [
    "from detectron2.structures import BoxMode\n",
    "def grocery_dataset_loader(name = 'grocery_5shot'):\n",
    "    data = []\n",
    "    base_dir = '/Users/hariharan/Downloads/grocery-db'\n",
    "    thing_classes = [\"3roses_top_star\", \"dettol_250ml\", \"hamam_100g\", \"nescafe_classic\"]\n",
    "\n",
    "    index = 0\n",
    "\n",
    "    for cls in thing_classes:\n",
    "        for img_file in (Path(base_dir) / cls).rglob('*.jpg'):\n",
    "            imgname = img_file.stem\n",
    "            anno_file = str(Path(base_dir) / cls / (imgname + '.xml'))\n",
    "\n",
    "            tree = ET.parse(anno_file)\n",
    "            size = tree.find('size')\n",
    "            width = float(size.find('width').text)\n",
    "            height = float(size.find('height').text)\n",
    "\n",
    "            for object in tree.findall('object'):\n",
    "                print(object.text)\n",
    "                class_name = object.find('name').text\n",
    "                boundbox = object.find('bndbox')\n",
    "                xmin = float(boundbox.find('xmin').text)\n",
    "                xmax = float(boundbox.find('xmax').text)\n",
    "                ymin = float(boundbox.find('ymin').text)\n",
    "                ymax = float(boundbox.find('ymax').text)\n",
    "                annotation = {\n",
    "                    \"file_name\" : str(img_file), # full path to image\n",
    "                    \"image_id\" :  index, # image unique ID\n",
    "                    \"height\" : width, # height of image\n",
    "                    \"width\" : height, # width of image\n",
    "                    \"annotations\": {\n",
    "                        \"category_id\" : thing_classes.index(class_name), # class unique ID\n",
    "                        \"bbox\" : [xmin, ymin, xmax, ymax], # bbox coordinates\n",
    "                        \"bbox_mode\" : BoxMode.XYXY_ABS, # bbox mode, depending on your format\n",
    "                    }\n",
    "                }\n",
    "                data.append(annotation)\n",
    "                index += 1\n",
    "    return data"
   ]
  },
  {
   "cell_type": "code",
   "execution_count": null,
   "metadata": {},
   "outputs": [],
   "source": [
    "datas = grocery_dataset_loader()"
   ]
  },
  {
   "cell_type": "code",
   "execution_count": 19,
   "metadata": {},
   "outputs": [
    {
     "data": {
      "text/plain": [
       "[{'file_name': '/Users/hariharan/Downloads/grocery-db/3roses_top_star/IMG_20220214_161839.jpg',\n",
       "  'image_id': 0,\n",
       "  'height': 3456.0,\n",
       "  'width': 4608.0,\n",
       "  'annotations': {'category_id': 0,\n",
       "   'bbox': [1240.0, 1733.0, 2020.0, 3773.0],\n",
       "   'bbox_mode': <BoxMode.XYXY_ABS: 0>}},\n",
       " {'file_name': '/Users/hariharan/Downloads/grocery-db/3roses_top_star/IMG_20220214_161836.jpg',\n",
       "  'image_id': 1,\n",
       "  'height': 3456.0,\n",
       "  'width': 4608.0,\n",
       "  'annotations': {'category_id': 0,\n",
       "   'bbox': [980.0, 1880.0, 2108.0, 3640.0],\n",
       "   'bbox_mode': <BoxMode.XYXY_ABS: 0>}},\n",
       " {'file_name': '/Users/hariharan/Downloads/grocery-db/3roses_top_star/IMG_20220214_161856.jpg',\n",
       "  'image_id': 2,\n",
       "  'height': 3456.0,\n",
       "  'width': 4608.0,\n",
       "  'annotations': {'category_id': 0,\n",
       "   'bbox': [1074.0, 2100.0, 2068.0, 3613.0],\n",
       "   'bbox_mode': <BoxMode.XYXY_ABS: 0>}},\n",
       " {'file_name': '/Users/hariharan/Downloads/grocery-db/3roses_top_star/IMG_20220214_161843.jpg',\n",
       "  'image_id': 3,\n",
       "  'height': 3456.0,\n",
       "  'width': 4608.0,\n",
       "  'annotations': {'category_id': 0,\n",
       "   'bbox': [1040.0, 1660.0, 2221.0, 3473.0],\n",
       "   'bbox_mode': <BoxMode.XYXY_ABS: 0>}},\n",
       " {'file_name': '/Users/hariharan/Downloads/grocery-db/3roses_top_star/IMG_20220214_161852.jpg',\n",
       "  'image_id': 4,\n",
       "  'height': 3456.0,\n",
       "  'width': 4608.0,\n",
       "  'annotations': {'category_id': 0,\n",
       "   'bbox': [1094.0, 2013.0, 2081.0, 3633.0],\n",
       "   'bbox_mode': <BoxMode.XYXY_ABS: 0>}},\n",
       " {'file_name': '/Users/hariharan/Downloads/grocery-db/3roses_top_star/IMG_20220214_161846.jpg',\n",
       "  'image_id': 5,\n",
       "  'height': 3456.0,\n",
       "  'width': 4608.0,\n",
       "  'annotations': {'category_id': 0,\n",
       "   'bbox': [1340.0, 1847.0, 2101.0, 3873.0],\n",
       "   'bbox_mode': <BoxMode.XYXY_ABS: 0>}},\n",
       " {'file_name': '/Users/hariharan/Downloads/grocery-db/dettol_250ml/IMG_20220214_161632.jpg',\n",
       "  'image_id': 6,\n",
       "  'height': 3456.0,\n",
       "  'width': 4608.0,\n",
       "  'annotations': {'category_id': 1,\n",
       "   'bbox': [1300.0, 1533.0, 2168.0, 3747.0],\n",
       "   'bbox_mode': <BoxMode.XYXY_ABS: 0>}},\n",
       " {'file_name': '/Users/hariharan/Downloads/grocery-db/dettol_250ml/IMG_20220214_161615.jpg',\n",
       "  'image_id': 7,\n",
       "  'height': 3456.0,\n",
       "  'width': 4608.0,\n",
       "  'annotations': {'category_id': 1,\n",
       "   'bbox': [1267.0, 1553.0, 2014.0, 3367.0],\n",
       "   'bbox_mode': <BoxMode.XYXY_ABS: 0>}},\n",
       " {'file_name': '/Users/hariharan/Downloads/grocery-db/hamam_100g/IMG_20220214_162026.jpg',\n",
       "  'image_id': 8,\n",
       "  'height': 3456.0,\n",
       "  'width': 4608.0,\n",
       "  'annotations': {'category_id': 2,\n",
       "   'bbox': [994.0, 2420.0, 2061.0, 3040.0],\n",
       "   'bbox_mode': <BoxMode.XYXY_ABS: 0>}},\n",
       " {'file_name': '/Users/hariharan/Downloads/grocery-db/hamam_100g/IMG_20220214_162021.jpg',\n",
       "  'image_id': 9,\n",
       "  'height': 3456.0,\n",
       "  'width': 4608.0,\n",
       "  'annotations': {'category_id': 2,\n",
       "   'bbox': [1014.0, 2367.0, 2175.0, 3060.0],\n",
       "   'bbox_mode': <BoxMode.XYXY_ABS: 0>}},\n",
       " {'file_name': '/Users/hariharan/Downloads/grocery-db/nescafe_classic/IMG_20220214_162007.jpg',\n",
       "  'image_id': 10,\n",
       "  'height': 3456.0,\n",
       "  'width': 4608.0,\n",
       "  'annotations': {'category_id': 3,\n",
       "   'bbox': [1167.0, 2333.0, 1980.0, 3733.0],\n",
       "   'bbox_mode': <BoxMode.XYXY_ABS: 0>}},\n",
       " {'file_name': '/Users/hariharan/Downloads/grocery-db/nescafe_classic/IMG_20220214_162012.jpg',\n",
       "  'image_id': 11,\n",
       "  'height': 3456.0,\n",
       "  'width': 4608.0,\n",
       "  'annotations': {'category_id': 3,\n",
       "   'bbox': [1060.0, 2207.0, 1820.0, 3587.0],\n",
       "   'bbox_mode': <BoxMode.XYXY_ABS: 0>}}]"
      ]
     },
     "execution_count": 19,
     "metadata": {},
     "output_type": "execute_result"
    }
   ],
   "source": [
    "datas"
   ]
  },
  {
   "cell_type": "code",
   "execution_count": null,
   "metadata": {},
   "outputs": [],
   "source": []
  }
 ],
 "metadata": {
  "interpreter": {
   "hash": "534a8f4daa3831e01c327d4ea80cdca27a92670fdba337af1f8d067344f57820"
  },
  "kernelspec": {
   "display_name": "Python 3.9.10 64-bit",
   "language": "python",
   "name": "python3"
  },
  "language_info": {
   "codemirror_mode": {
    "name": "ipython",
    "version": 3
   },
   "file_extension": ".py",
   "mimetype": "text/x-python",
   "name": "python",
   "nbconvert_exporter": "python",
   "pygments_lexer": "ipython3",
   "version": "3.9.10"
  },
  "orig_nbformat": 4
 },
 "nbformat": 4,
 "nbformat_minor": 2
}
