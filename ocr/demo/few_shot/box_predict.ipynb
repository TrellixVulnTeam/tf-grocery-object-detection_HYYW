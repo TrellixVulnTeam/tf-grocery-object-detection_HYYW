{
 "cells": [
  {
   "cell_type": "code",
   "execution_count": 1,
   "id": "5f8348d5-3311-4a5b-997a-239668b1e009",
   "metadata": {},
   "outputs": [],
   "source": [
    "from fsdet.modeling import build_model"
   ]
  },
  {
   "cell_type": "code",
   "execution_count": 4,
   "id": "52be04f1-870f-4d62-abb5-6720a2a5a446",
   "metadata": {},
   "outputs": [],
   "source": [
    "img_file = '/Users/hariharan/hari_works/grocery-object-detection/ocr/demo/grocery-db/3roses_top_star/IMG_20220214_161843.jpg'"
   ]
  },
  {
   "cell_type": "code",
   "execution_count": null,
   "id": "9fb7c71b-14e7-43db-847f-2c712264ad43",
   "metadata": {},
   "outputs": [],
   "source": [
    "model = build_model(self.cfg)"
   ]
  }
 ],
 "metadata": {
  "kernelspec": {
   "display_name": "Python 3 (ipykernel)",
   "language": "python",
   "name": "python3"
  },
  "language_info": {
   "codemirror_mode": {
    "name": "ipython",
    "version": 3
   },
   "file_extension": ".py",
   "mimetype": "text/x-python",
   "name": "python",
   "nbconvert_exporter": "python",
   "pygments_lexer": "ipython3",
   "version": "3.9.10"
  }
 },
 "nbformat": 4,
 "nbformat_minor": 5
}
