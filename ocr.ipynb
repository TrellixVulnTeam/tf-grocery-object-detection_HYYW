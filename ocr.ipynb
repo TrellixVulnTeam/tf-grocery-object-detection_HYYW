{
 "cells": [
  {
   "cell_type": "code",
   "execution_count": 2,
   "id": "e5c8d397-1995-4b4a-a43d-a3cbdedfc545",
   "metadata": {},
   "outputs": [
    {
     "name": "stderr",
     "output_type": "stream",
     "text": [
      "CUDA not available - defaulting to CPU. Note: This module is much faster with a GPU.\n",
      "Downloading detection model, please wait. This may take several minutes depending upon your network connection.\n"
     ]
    },
    {
     "name": "stdout",
     "output_type": "stream",
     "text": [
      "Progress: |██████████████████████████████████████████████████| 100.0% Complete\r"
     ]
    },
    {
     "name": "stderr",
     "output_type": "stream",
     "text": [
      "Downloading recognition model, please wait. This may take several minutes depending upon your network connection.\n"
     ]
    },
    {
     "name": "stdout",
     "output_type": "stream",
     "text": [
      "Progress: |██████████████████████████████████████████████████| 100.0% Complete\r"
     ]
    }
   ],
   "source": [
    "import easyocr\n",
    "reader = easyocr.Reader(['en']) # this needs to run only once to load the model into memory\n",
    "result = reader.readtext('ocr/ocr_images/WhatsApp Image 2021-12-23 at 12.34.27.jpeg')"
   ]
  },
  {
   "cell_type": "code",
   "execution_count": 3,
   "id": "8c13a234-4d3a-4bbc-a433-58fb7279de2a",
   "metadata": {},
   "outputs": [
    {
     "data": {
      "text/plain": [
       "[([[527, 369], [551, 369], [551, 389], [527, 389]], '0', 0.13782877798672732),\n",
       " ([[473, 359], [517, 359], [517, 466], [473, 466]], '1', 0.6224527712959258),\n",
       " ([[522, 386], [548, 386], [548, 434], [522, 434]], '8', 0.9939460866307037),\n",
       " ([[377, 454], [517, 454], [517, 684], [377, 684]],\n",
       "  '#L',\n",
       "  0.057887001770663055),\n",
       " ([[466, 615], [505, 615], [505, 704], [466, 704]], '3', 0.4013164096772961),\n",
       " ([[386, 660], [514, 660], [514, 852], [386, 852]], 'Qi', 0.24353472908224186),\n",
       " ([[458, 843], [495, 843], [495, 928], [458, 928]], '1', 0.35065486142775626),\n",
       " ([[343, 844], [508, 844], [508, 1151], [343, 1151]],\n",
       "  '0',\n",
       "  0.46060282442974554),\n",
       " ([[394, 1290], [420, 1290], [420, 1314], [394, 1314]],\n",
       "  '9',\n",
       "  0.3254883591176281),\n",
       " ([[392, 1314], [418, 1314], [418, 1338], [392, 1338]],\n",
       "  '0',\n",
       "  0.11077236496204534),\n",
       " ([[390, 1338], [416, 1338], [416, 1362], [390, 1362]],\n",
       "  '0',\n",
       "  0.9184116506128568),\n",
       " ([[391, 1363], [413, 1363], [413, 1383], [391, 1383]],\n",
       "  'A',\n",
       "  0.004616226856055727),\n",
       " ([[434, 1294], [471, 1294], [471, 1408], [434, 1408]],\n",
       "  '1',\n",
       "  0.41977230560789636),\n",
       " ([[304, 1272], [478, 1272], [478, 1541], [304, 1541]],\n",
       "  'Lh',\n",
       "  0.07202545615864958)]"
      ]
     },
     "execution_count": 3,
     "metadata": {},
     "output_type": "execute_result"
    }
   ],
   "source": [
    "result"
   ]
  },
  {
   "cell_type": "code",
   "execution_count": null,
   "id": "1c7e1f75-fbbf-47ee-bd48-b4050b700143",
   "metadata": {},
   "outputs": [],
   "source": []
  }
 ],
 "metadata": {
  "kernelspec": {
   "display_name": "Python 3 (ipykernel)",
   "language": "python",
   "name": "python3"
  },
  "language_info": {
   "codemirror_mode": {
    "name": "ipython",
    "version": 3
   },
   "file_extension": ".py",
   "mimetype": "text/x-python",
   "name": "python",
   "nbconvert_exporter": "python",
   "pygments_lexer": "ipython3",
   "version": "3.9.9"
  }
 },
 "nbformat": 4,
 "nbformat_minor": 5
}
